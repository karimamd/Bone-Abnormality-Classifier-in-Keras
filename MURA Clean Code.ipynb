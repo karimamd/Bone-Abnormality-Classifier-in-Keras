{
  "nbformat": 4,
  "nbformat_minor": 0,
  "metadata": {
    "colab": {
      "name": "MURA Clean Code.ipynb",
      "version": "0.3.2",
      "provenance": [],
      "collapsed_sections": []
    },
    "kernelspec": {
      "name": "python3",
      "display_name": "Python 3"
    },
    "accelerator": "GPU"
  },
  "cells": [
    {
      "metadata": {
        "id": "Corv113DVLKx",
        "colab_type": "text"
      },
      "cell_type": "markdown",
      "source": [
        "#### Imports"
      ]
    },
    {
      "metadata": {
        "id": "SmaRONjkdPJc",
        "colab_type": "code",
        "colab": {
          "base_uri": "https://localhost:8080/",
          "height": 34
        },
        "outputId": "4ce7e24a-9234-4303-ca33-11f6f77aa115"
      },
      "cell_type": "code",
      "source": [
        "!ls"
      ],
      "execution_count": 2,
      "outputs": [
        {
          "output_type": "stream",
          "text": [
            "MURA-v1.1  sample_data\n"
          ],
          "name": "stdout"
        }
      ]
    },
    {
      "metadata": {
        "id": "Cfvs-0PJVXGi",
        "colab_type": "code",
        "outputId": "3f0fbe47-0824-49ab-e610-6340b08411aa",
        "colab": {
          "base_uri": "https://localhost:8080/",
          "height": 34
        }
      },
      "cell_type": "code",
      "source": [
        "# -*- coding: utf-8 -*-\n",
        "#!wget -c https://cs.stanford.edu/group/mlgroup/MURA-v1.1.zip\n",
        "#!unzip MURA-v1.1.zip\n",
        "#!rm MURA-v1.1.zip\n",
        "!ls"
      ],
      "execution_count": 3,
      "outputs": [
        {
          "output_type": "stream",
          "text": [
            "MURA-v1.1  sample_data\n"
          ],
          "name": "stdout"
        }
      ]
    },
    {
      "metadata": {
        "id": "hezUpQAcVLK6",
        "colab_type": "code",
        "outputId": "28887423-a892-4d11-c69e-b5711ad94a31",
        "colab": {
          "base_uri": "https://localhost:8080/",
          "height": 34
        }
      },
      "cell_type": "code",
      "source": [
        "# -*- coding: utf-8 -*-\n",
        "import pandas as pd\n",
        "import numpy as np\n",
        "import matplotlib.pyplot as plt\n",
        "from os import listdir\n",
        "from os.path import isfile, join\n",
        "from tqdm import tqdm\n",
        "import keras\n",
        "pd.options.display.max_colwidth = 100\n",
        "from keras.applications.mobilenetv2 import MobileNetV2\n",
        "from keras.applications.densenet import DenseNet169\n",
        "from keras.applications.inception_v3 import InceptionV3\n",
        "from keras.applications.resnet50 import ResNet50\n",
        "from keras.applications.nasnet import NASNetLarge\n",
        "from keras.preprocessing import image\n",
        "from keras.applications.mobilenetv2 import preprocess_input\n",
        "from keras.applications import MobileNet\n",
        "from keras.callbacks import (EarlyStopping, ModelCheckpoint, ReduceLROnPlateau, TensorBoard)\n",
        "from keras.layers import Dense, GlobalAveragePooling2D, Input\n",
        "from keras.metrics import binary_accuracy, binary_crossentropy\n",
        "from keras.models import Model\n",
        "from keras.optimizers import SGD, Adam\n",
        "from keras.preprocessing.image import ImageDataGenerator\n",
        "from keras.applications.mobilenetv2 import MobileNetV2\n",
        "from keras.preprocessing import image as k_im_prep\n",
        "from keras.models import Model\n",
        "from keras import backend as K\n",
        "from keras.models import Sequential"
      ],
      "execution_count": 4,
      "outputs": [
        {
          "output_type": "stream",
          "text": [
            "Using TensorFlow backend.\n"
          ],
          "name": "stderr"
        }
      ]
    },
    {
      "metadata": {
        "id": "ut2PF0_mOa_X",
        "colab_type": "text"
      },
      "cell_type": "markdown",
      "source": [
        "**Data Reading**"
      ]
    },
    {
      "metadata": {
        "id": "dBWtYEWrOeOt",
        "colab_type": "code",
        "colab": {}
      },
      "cell_type": "code",
      "source": [
        "def paths_n_labels(csv,str_limp):\n",
        "    #make dataframe\n",
        "    studies=pd.read_csv(csv, sep=',',header=None)\n",
        "    #separate study paths and labels of given limp from those of other limps\n",
        "    limp_studies=studies[studies[0].str.contains(str_limp)==True]\n",
        "    #make it a numpy\n",
        "    limp_studies=np.array(limp_studies)\n",
        "    #limp study folder paths\n",
        "    limp_paths=[]\n",
        "    #labels of given limp\n",
        "    limp_labels=[]\n",
        "    for i in tqdm( range(limp_studies.shape[0]) ):\n",
        "        study_path=limp_studies[i][0]\n",
        "        study_label=limp_studies[i][1]\n",
        "        study_files = [f for f in listdir(study_path) if isfile(join(study_path, f))]\n",
        "        for image in study_files:\n",
        "            limp_paths.append(study_path + image)\n",
        "            limp_labels.append(study_label)\n",
        "\n",
        "    limp_paths=np.array(limp_paths)\n",
        "    limp_labels=np.array(limp_labels)\n",
        "\n",
        "    return limp_paths,limp_labels"
      ],
      "execution_count": 0,
      "outputs": []
    },
    {
      "metadata": {
        "id": "-d-KrxmIReoP",
        "colab_type": "code",
        "colab": {}
      },
      "cell_type": "code",
      "source": [
        "#general function with options for wrist data case, only set wrist_train=True in the case of wrist training data only\n",
        "#for all other limps and for validation data even that of wrist just pass the paths\n",
        "#targ_size is image resizing with default(224,224)\n",
        "#preprocess flag is for using keras preprocessing for images or just resizing\n",
        "def read_images(paths ,targ_size= (224, 224), wrist_train=False, preprocess=False):\n",
        "    images=[]\n",
        "    #load any limp images\n",
        "    if(not wrist_train):\n",
        "        for path in tqdm(paths):\n",
        "            img=k_im_prep.load_img(path, target_size=targ_size )\n",
        "            if(preprocess):\n",
        "                img = k_im_prep.img_to_array(img)\n",
        "                img = np.expand_dims(img, axis=0)\n",
        "                img = preprocess_input(img)\n",
        "                images.append(np.array(img)[0])\n",
        "            else:\n",
        "              images.append(np.array(img))\n",
        "    #special case for wrist train corrupted data       \n",
        "    else:\n",
        "        #did this because it gave an error at sample  5307 or near it if took all\n",
        "        sample_e=5307\n",
        "        sample_s2=5339\n",
        "        images=[]\n",
        "        for path in tqdm(paths[:sample_e]):\n",
        "            img=k_im_prep.load_img(path, target_size=targ_size)\n",
        "            if(preprocess):\n",
        "                img = k_im_prep.img_to_array(img)\n",
        "                img = np.expand_dims(img, axis=0)\n",
        "                img = preprocess_input(img)\n",
        "                images.append(np.array(img)[0])\n",
        "            else:\n",
        "              images.append(np.array(img))\n",
        "\n",
        "        #new start\n",
        "        for path in tqdm(paths[sample_s2:]):\n",
        "            img=k_im_prep.load_img(path, target_size=targ_size)\n",
        "            if(preprocess):\n",
        "                img = k_im_prep.img_to_array(img)\n",
        "                img = np.expand_dims(img, axis=0)\n",
        "                img = preprocess_input(img)\n",
        "                images.append(np.array(img)[0])\n",
        "            else:\n",
        "              images.append(np.array(img))\n",
        "\n",
        "    #making it a numpy array instead of python list\n",
        "    return (np.array(images))\n",
        "  \n",
        "\n",
        "def wrist_labels(labels):\n",
        "  sample_e=5307\n",
        "  sample_s2=5339\n",
        "  return np.hstack( [ labels[:sample_e], labels[sample_s2:] ])\n"
      ],
      "execution_count": 0,
      "outputs": []
    },
    {
      "metadata": {
        "id": "A9xFCfDa2aR2",
        "colab_type": "code",
        "colab": {}
      },
      "cell_type": "code",
      "source": [
        "train_studies='MURA-v1.1/train_labeled_studies.csv'\n",
        "valid_studies='MURA-v1.1/valid_labeled_studies.csv'"
      ],
      "execution_count": 0,
      "outputs": []
    },
    {
      "metadata": {
        "id": "T4QggWXq2iu-",
        "colab_type": "code",
        "colab": {}
      },
      "cell_type": "code",
      "source": [
        "# #data bias : train\n",
        "# print(\"0 normal, 1 abnormal\")\n",
        "# unique, counts = np.unique(train_labels, return_counts=True)\n",
        "# print(dict(zip(unique, counts)))"
      ],
      "execution_count": 0,
      "outputs": []
    },
    {
      "metadata": {
        "id": "58kzFDVzGzzl",
        "colab_type": "code",
        "colab": {}
      },
      "cell_type": "code",
      "source": [
        ""
      ],
      "execution_count": 0,
      "outputs": []
    },
    {
      "metadata": {
        "id": "vJ_NG3xJOjfU",
        "colab_type": "code",
        "colab": {}
      },
      "cell_type": "code",
      "source": [
        "# print(\"0 normal, 1 abnormal\")\n",
        "# unique, counts = np.unique(valid_labels, return_counts=True)\n",
        "# print(dict(zip(unique, counts)))"
      ],
      "execution_count": 0,
      "outputs": []
    },
    {
      "metadata": {
        "id": "y1u2CNQ7VLMC",
        "colab_type": "text"
      },
      "cell_type": "markdown",
      "source": [
        "### Model"
      ]
    },
    {
      "metadata": {
        "id": "R1VohqXoheEI",
        "colab_type": "code",
        "colab": {}
      },
      "cell_type": "code",
      "source": [
        " def images_n_labels(limp,preprocess=True):\n",
        "  \n",
        "  print(\"\\nreading studies of \"+ limp + \"\\n\")\n",
        "  print(train_studies)\n",
        "  train_paths,train_labels=paths_n_labels(train_studies,limp)\n",
        "  valid_paths,valid_labels=paths_n_labels(valid_studies,limp)\n",
        "  \n",
        "  print(train_labels.shape)\n",
        "  print(valid_labels.shape)\n",
        "  print(\"reading \"+ limp + \" training images\")\n",
        "  if (limp == \"WRIST\"):\n",
        "    train_labels=wrist_labels(train_labels)\n",
        "    train_imgs= read_images(train_paths,preprocess=preprocess, wrist_train=True)\n",
        "    \n",
        "  else:\n",
        "    train_imgs= read_images(train_paths,preprocess=preprocess, wrist_train=False)\n",
        "  print(train_imgs.shape)  \n",
        "  print(\"reading \"+ limp + \" validation images\")\n",
        "  valid_imgs= read_images(valid_paths,preprocess=True)\n",
        "  print(valid_imgs.shape)\n",
        "  \n",
        "  return train_imgs, train_labels, valid_imgs, valid_labels"
      ],
      "execution_count": 0,
      "outputs": []
    },
    {
      "metadata": {
        "id": "mMST4D272Whd",
        "colab_type": "code",
        "colab": {}
      },
      "cell_type": "code",
      "source": [
        "def make_FT_model(base=1, imagenet=True, freeze_all=True, add_denses=True):\n",
        "  \n",
        "  #weights of pretrained model\n",
        "  if (imagenet==True):\n",
        "    w='imagenet'\n",
        "  else:\n",
        "    w=None\n",
        "  \n",
        "  #default because refrenced before assignment error, just scroll down\n",
        "  base_model = MobileNetV2(input_shape= (224, 224, 3),weights=w, include_top=False)\n",
        "  \n",
        "  #initializing pretrained model\n",
        "  if (base==0):\n",
        "    base_model = MobileNetV2(input_shape= (224, 224, 3),weights=w, include_top=False)\n",
        "  elif (base == 1):\n",
        "    base_model = DenseNet169(input_shape= (224, 224, 3),weights=w, include_top=False)\n",
        "  elif (base == 2):\n",
        "    base_model = InceptionV3(input_shape= (224, 224, 3),weights=w, include_top=False)\n",
        "  elif (base == 3):\n",
        "    base_model = ResNet50(input_shape= (224, 224, 3),weights=w, include_top=False)   \n",
        "  elif (base == 4):\n",
        "    base_model = NASNetLarge(input_shape= (224, 224, 3),weights=w, include_top=False)\n",
        "    \n",
        " \n",
        "  if (freeze_all):\n",
        "    #freeze layers of densenet\n",
        "    for layer in base_model.layers:\n",
        "      layer.trainable= False \n",
        "  \n",
        "  # add a global spatial average pooling layer\n",
        "  x = base_model.output\n",
        "  x = GlobalAveragePooling2D()(x)\n",
        "  \n",
        "  if(add_denses):\n",
        "    # let's add a fully-connected layer\n",
        "    #x = Dense(1024, activation='relu')(x)\n",
        "    x = Dense(512, activation='relu')(x)\n",
        "    x = Dense(128, activation='relu')(x)\n",
        "    #x = Dense(32, activation='relu')(x)\n",
        "    # and a logistic layer -- let's say we have 200 classes\n",
        "    predictions = Dense(1, activation='sigmoid')(x)\n",
        "    # this is the model we will train\n",
        "    model = Model(inputs=base_model.input, outputs=predictions)\n",
        "    \n",
        "  else:\n",
        "    # just feature extractor\n",
        "    model = Model(inputs=base_model.input, output=x)\n",
        "  \n",
        "  \n",
        "  return model"
      ],
      "execution_count": 0,
      "outputs": []
    },
    {
      "metadata": {
        "id": "sjcx0lP3srt7",
        "colab_type": "text"
      },
      "cell_type": "markdown",
      "source": [
        "**The Generator**"
      ]
    },
    {
      "metadata": {
        "colab_type": "text",
        "id": "WD21pIOMvQyY"
      },
      "cell_type": "markdown",
      "source": [
        "TODO #K : the runtime died issue when trying to fit the generated data first before using it in fit_generator"
      ]
    },
    {
      "metadata": {
        "colab_type": "code",
        "id": "PFkebUq3vP-f",
        "colab": {}
      },
      "cell_type": "code",
      "source": [
        "datagen = ImageDataGenerator(  rescale=1./255,\n",
        "    featurewise_center=False,  # set input mean to 0 over the dataset\n",
        "    samplewise_center=False,  # set each sample mean to 0\n",
        "    featurewise_std_normalization=False,  # divide inputs by std of the dataset\n",
        "    samplewise_std_normalization=False,  # divide each input by its std\n",
        "    zca_whitening=False,  # apply ZCA whitening\n",
        "    rotation_range=20,  # randomly rotate images in the range (degrees, 0 to 180)\n",
        "    width_shift_range=0.1,  # randomly shift images horizontally (fraction of total width)\n",
        "    height_shift_range=0.1,  # randomly shift images vertically (fraction of total height)\n",
        "    horizontal_flip=True,  # randomly flip images\n",
        "    vertical_flip=False,\n",
        "    zoom_range=0.1,\n",
        "    channel_shift_range=0.,\n",
        "    fill_mode='nearest')"
      ],
      "execution_count": 0,
      "outputs": []
    },
    {
      "metadata": {
        "id": "uR-g2EsQcnmm",
        "colab_type": "text"
      },
      "cell_type": "markdown",
      "source": [
        "### Generalizing over all limps"
      ]
    },
    {
      "metadata": {
        "id": "eXYxHrw_cqIg",
        "colab_type": "code",
        "colab": {}
      },
      "cell_type": "code",
      "source": [
        "#pass to model list of limps because if wanted to train on less\n",
        "#function outputs a dictionary or dataframe has train and val accuracies for each limp using a chosen model\n",
        "limps=[\"SHOULDER\", \"WRIST\",\"FINGER\", \"ELBOW\", \"HUMERUS\",\"HAND\", \"FOREARM\"]\n",
        "\n",
        "\n",
        "def evaluate_limps(models=[1], imagenet=True, freeze_all=False,v=1 , limps=[\"WRIST\"], preprocess_ip=True, augment=False):\n",
        "  accuracies={}\n",
        "  for model in models:\n",
        "    print(\"\\n\\n used base model: \\n\\n\"+bases[model])\n",
        "    for limp in limps:\n",
        "      #print(\"reading \"+ limp + \" images\\n\")\n",
        "      train_imgs, train_labels, valid_imgs, valid_labels= images_n_labels(limp, preprocess=preprocess_ip)\n",
        "      print(\"making model\")\n",
        "      model=make_FT_model(base= model, imagenet=False, freeze_all=False, add_denses=True)\n",
        "      print(\"compiling\")\n",
        "      model.compile(optimizer='rmsprop', loss='binary_crossentropy', metrics=['accuracy'])\n",
        "      ##############################################################\n",
        "\n",
        "      if(augment): #dataaugmentation model fitting\n",
        "        print(\"Augmenting Input data\")\n",
        "        # # compute quantities required for featurewise normalization\n",
        "        # # (std, mean, and principal components if ZCA whitening is applied)\n",
        "\n",
        "        #       datagen.fit(train_imgs)\n",
        "        model.fit_generator(datagen.flow(train_imgs, train_labels, batch_size=16),\n",
        "                      steps_per_epoch=len(train_imgs) / 16, epochs=5,use_multiprocessing=False,workers=6,validation_data=None)\n",
        "        print(\"training augmentation calculations for \"+ limp)\n",
        "\n",
        "        loss_tr, accuracy_tr =model.evaluate_generator(datagen.flow(train_imgs,train_labels), use_multiprocessing=True,steps=len(datagen) / 16)\n",
        "\n",
        "        print(\"calculating validation augmentation loss for \"+ limp)\n",
        "\n",
        "        loss_val, accuracy_val = model.evaluate_generator(datagen.flow(train_imgs,valid_labels), use_multiprocessing=True,steps=len(datagen) / 16)\n",
        "\n",
        "      ###############################################################\n",
        "      else:\n",
        "        print(\"fitting\")\n",
        "        model.fit(train_imgs, train_labels, epochs=5, validation_data=(valid_imgs, valid_labels), shuffle=True, verbose=v )\n",
        "        print(\"training loss calculations for \"+ limp)\n",
        "        \n",
        "        loss_tr, accuracy_tr =model.evaluate(x=train_imgs, y=train_labels, batch_size=128, verbose=v)\n",
        "        \n",
        "        print(\"calculating validation loss for \"+ limp)\n",
        "        \n",
        "        loss_val, accuracy_val =model.evaluate(x=valid_imgs, y=valid_labels, batch_size=128, verbose=v)\n",
        "        \n",
        "      accuracies.update( {limp : [accuracy_tr, accuracy_val]} )\n",
        "      print(\"\\n \\n \"+ limp)\n",
        "      print(accuracies)\n",
        "      pd.DataFrame(accuracies).head(2)\n",
        "  return accuracies\n",
        "\n",
        "  \n",
        "  "
      ],
      "execution_count": 0,
      "outputs": []
    },
    {
      "metadata": {
        "id": "oGKgTYYMUcxO",
        "colab_type": "code",
        "colab": {}
      },
      "cell_type": "code",
      "source": [
        "#@title Attributes of Experiment { run: \"auto\", vertical-output: true, display-mode: \"both\" }\n",
        "imagenet = True #@param {type:\"boolean\"}\n",
        "#parameter setting for experiment\n",
        "#choose here which limps to use when running the function\n",
        "limps=[\"FINGER\", \"ELBOW\", \"HUMERUS\",\"HAND\", \"FOREARM\", \"SHOULDER\", \"WRIST\"]\n",
        "# which Transfer Learning base models to use\n",
        "base=[0]\n",
        "#this is just to know index of each model when choosing base above and to print it when running the function\n",
        "bases=[\"MobileNetV2\", \"DenseNet169\", \"InceptionV3\", \"ResNet50\",\"NASNetLarge\"]\n",
        "# whether to use imagenet weights of not\n",
        "imagenet=True\n",
        "# whether to freeze ALL layers of base model or not\n",
        "freeze_all=True\n",
        "# how much information to display about epochs and progress , 0= none , 1 is line per epoch\n",
        "verbose=1\n",
        "# whether to preprocess input \n",
        "preprocess_ip=True\n",
        "#whether to augment data\n",
        "augmentation=False"
      ],
      "execution_count": 0,
      "outputs": []
    },
    {
      "metadata": {
        "id": "HxKTrlBCt5S9",
        "colab_type": "code",
        "outputId": "bf6ccb4e-2c8b-41d7-8a64-6a96bf2c3cdf",
        "colab": {
          "base_uri": "https://localhost:8080/",
          "height": 3424
        }
      },
      "cell_type": "code",
      "source": [
        "R=evaluate_limps(models=base,imagenet=imagenet, freeze_all=freeze_all, v=verbose, limps=limps, preprocess_ip=preprocess_ip, augment=augmentation)\n"
      ],
      "execution_count": 0,
      "outputs": [
        {
          "output_type": "stream",
          "text": [
            "  2%|▏         | 46/1935 [00:00<00:04, 459.81it/s]"
          ],
          "name": "stderr"
        },
        {
          "output_type": "stream",
          "text": [
            "\n",
            "\n",
            " used base model: \n",
            "\n",
            "MobileNetV2\n",
            "\n",
            "reading studies of FINGER\n",
            "\n",
            "MURA-v1.1/train_labeled_studies.csv\n"
          ],
          "name": "stdout"
        },
        {
          "output_type": "stream",
          "text": [
            "100%|██████████| 1935/1935 [00:01<00:00, 1772.41it/s]\n",
            "100%|██████████| 175/175 [00:00<00:00, 1496.22it/s]\n",
            "  0%|          | 9/5106 [00:00<00:56, 89.43it/s]"
          ],
          "name": "stderr"
        },
        {
          "output_type": "stream",
          "text": [
            "(5106,)\n",
            "(461,)\n",
            "reading FINGER training images\n"
          ],
          "name": "stdout"
        },
        {
          "output_type": "stream",
          "text": [
            "100%|██████████| 5106/5106 [00:27<00:00, 183.64it/s]\n",
            "  4%|▎         | 17/461 [00:00<00:02, 165.29it/s]"
          ],
          "name": "stderr"
        },
        {
          "output_type": "stream",
          "text": [
            "(5106, 224, 224, 3)\n",
            "reading FINGER validation images\n"
          ],
          "name": "stdout"
        },
        {
          "output_type": "stream",
          "text": [
            "100%|██████████| 461/461 [00:02<00:00, 157.03it/s]\n"
          ],
          "name": "stderr"
        },
        {
          "output_type": "stream",
          "text": [
            "(461, 224, 224, 3)\n",
            "making model\n",
            "compiling\n",
            "fitting\n",
            "Train on 5106 samples, validate on 461 samples\n",
            "Epoch 1/5\n",
            "5106/5106 [==============================] - 79s 15ms/step - loss: 0.6870 - acc: 0.6122 - val_loss: 2.0318 - val_acc: 0.4642\n",
            "Epoch 2/5\n",
            "5106/5106 [==============================] - 65s 13ms/step - loss: 0.6137 - acc: 0.6351 - val_loss: 3.4882 - val_acc: 0.4642\n",
            "Epoch 3/5\n",
            "5106/5106 [==============================] - 65s 13ms/step - loss: 0.5751 - acc: 0.6919 - val_loss: 2.0265 - val_acc: 0.4642\n",
            "Epoch 4/5\n",
            "5106/5106 [==============================] - 65s 13ms/step - loss: 0.5662 - acc: 0.6972 - val_loss: 1.5895 - val_acc: 0.6833\n",
            "Epoch 5/5\n",
            "5106/5106 [==============================] - 65s 13ms/step - loss: 0.5520 - acc: 0.7103 - val_loss: 2.9206 - val_acc: 0.6811\n",
            "training loss calculations for FINGER\n",
            "5106/5106 [==============================] - 17s 3ms/step\n",
            "calculating validation loss for FINGER\n",
            "461/461 [==============================] - 2s 4ms/step\n"
          ],
          "name": "stdout"
        },
        {
          "output_type": "stream",
          "text": [
            "  2%|▏         | 29/1754 [00:00<00:05, 289.62it/s]"
          ],
          "name": "stderr"
        },
        {
          "output_type": "stream",
          "text": [
            "\n",
            " \n",
            " FINGER\n",
            "{'FINGER': [0.6549157851404458, 0.6811279839393632]}\n",
            "\n",
            "reading studies of ELBOW\n",
            "\n",
            "MURA-v1.1/train_labeled_studies.csv\n"
          ],
          "name": "stdout"
        },
        {
          "output_type": "stream",
          "text": [
            "100%|██████████| 1754/1754 [00:01<00:00, 1479.33it/s]\n",
            "100%|██████████| 158/158 [00:00<00:00, 1439.37it/s]\n",
            "  0%|          | 13/4931 [00:00<00:38, 129.21it/s]"
          ],
          "name": "stderr"
        },
        {
          "output_type": "stream",
          "text": [
            "(4931,)\n",
            "(465,)\n",
            "reading ELBOW training images\n"
          ],
          "name": "stdout"
        },
        {
          "output_type": "stream",
          "text": [
            "100%|██████████| 4931/4931 [00:38<00:00, 128.55it/s]\n",
            "  3%|▎         | 15/465 [00:00<00:03, 149.71it/s]"
          ],
          "name": "stderr"
        },
        {
          "output_type": "stream",
          "text": [
            "(4931, 224, 224, 3)\n",
            "reading ELBOW validation images\n"
          ],
          "name": "stdout"
        },
        {
          "output_type": "stream",
          "text": [
            "100%|██████████| 465/465 [00:03<00:00, 127.20it/s]\n"
          ],
          "name": "stderr"
        },
        {
          "output_type": "stream",
          "text": [
            "(465, 224, 224, 3)\n",
            "making model\n",
            "compiling\n",
            "fitting\n",
            "Train on 4931 samples, validate on 465 samples\n",
            "Epoch 1/5\n",
            "4931/4931 [==============================] - 76s 15ms/step - loss: 0.7238 - acc: 0.5786 - val_loss: 2.2034 - val_acc: 0.5054\n",
            "Epoch 2/5\n",
            "4931/4931 [==============================] - 64s 13ms/step - loss: 0.6648 - acc: 0.5916 - val_loss: 1.5135 - val_acc: 0.5054\n",
            "Epoch 3/5\n",
            "4931/4931 [==============================] - 64s 13ms/step - loss: 0.6638 - acc: 0.5905 - val_loss: 5.2266 - val_acc: 0.5054\n",
            "Epoch 4/5\n",
            "4931/4931 [==============================] - 64s 13ms/step - loss: 0.6541 - acc: 0.6068 - val_loss: 1.3399 - val_acc: 0.5054\n",
            "Epoch 5/5\n",
            "4931/4931 [==============================] - 64s 13ms/step - loss: 0.6320 - acc: 0.6441 - val_loss: 1.0380 - val_acc: 0.5161\n",
            "training loss calculations for ELBOW\n",
            "4931/4931 [==============================] - 15s 3ms/step\n",
            "calculating validation loss for ELBOW\n",
            "465/465 [==============================] - 2s 4ms/step\n"
          ],
          "name": "stdout"
        },
        {
          "output_type": "stream",
          "text": [
            " 12%|█▏        | 70/592 [00:00<00:00, 698.13it/s]"
          ],
          "name": "stderr"
        },
        {
          "output_type": "stream",
          "text": [
            "\n",
            " \n",
            " ELBOW\n",
            "{'FINGER': [0.6549157851404458, 0.6811279839393632], 'ELBOW': [0.41188399917936197, 0.5161290323381783]}\n",
            "\n",
            "reading studies of HUMERUS\n",
            "\n",
            "MURA-v1.1/train_labeled_studies.csv\n"
          ],
          "name": "stdout"
        },
        {
          "output_type": "stream",
          "text": [
            "100%|██████████| 592/592 [00:00<00:00, 1384.10it/s]\n",
            "100%|██████████| 135/135 [00:00<00:00, 1683.36it/s]\n",
            "  1%|          | 12/1272 [00:00<00:10, 119.58it/s]"
          ],
          "name": "stderr"
        },
        {
          "output_type": "stream",
          "text": [
            "(1272,)\n",
            "(288,)\n",
            "reading HUMERUS training images\n"
          ],
          "name": "stdout"
        },
        {
          "output_type": "stream",
          "text": [
            "100%|██████████| 1272/1272 [00:10<00:00, 119.97it/s]\n",
            "  5%|▌         | 15/288 [00:00<00:01, 146.68it/s]"
          ],
          "name": "stderr"
        },
        {
          "output_type": "stream",
          "text": [
            "(1272, 224, 224, 3)\n",
            "reading HUMERUS validation images\n"
          ],
          "name": "stdout"
        },
        {
          "output_type": "stream",
          "text": [
            "100%|██████████| 288/288 [00:01<00:00, 147.58it/s]\n"
          ],
          "name": "stderr"
        },
        {
          "output_type": "stream",
          "text": [
            "(288, 224, 224, 3)\n",
            "making model\n",
            "compiling\n",
            "fitting\n",
            "Train on 1272 samples, validate on 288 samples\n",
            "Epoch 1/5\n",
            "1272/1272 [==============================] - 29s 23ms/step - loss: 0.8772 - acc: 0.5519 - val_loss: 4.8454 - val_acc: 0.4861\n",
            "Epoch 2/5\n",
            "1272/1272 [==============================] - 17s 13ms/step - loss: 0.6958 - acc: 0.5928 - val_loss: 1.1846 - val_acc: 0.5139\n",
            "Epoch 3/5\n",
            "1272/1272 [==============================] - 17s 13ms/step - loss: 0.6661 - acc: 0.6124 - val_loss: 5.8983 - val_acc: 0.4861\n",
            "Epoch 4/5\n",
            "1272/1272 [==============================] - 17s 13ms/step - loss: 0.6460 - acc: 0.6431 - val_loss: 4.5085 - val_acc: 0.4861\n",
            "Epoch 5/5\n",
            "1272/1272 [==============================] - 17s 13ms/step - loss: 0.6380 - acc: 0.6470 - val_loss: 6.1665 - val_acc: 0.4861\n",
            "training loss calculations for HUMERUS\n",
            "1272/1272 [==============================] - 4s 3ms/step\n",
            "calculating validation loss for HUMERUS\n",
            "288/288 [==============================] - 1s 3ms/step\n"
          ],
          "name": "stdout"
        },
        {
          "output_type": "stream",
          "text": [
            "\r  0%|          | 0/2018 [00:00<?, ?it/s]"
          ],
          "name": "stderr"
        },
        {
          "output_type": "stream",
          "text": [
            "\n",
            " \n",
            " HUMERUS\n",
            "{'FINGER': [0.6549157851404458, 0.6811279839393632], 'ELBOW': [0.41188399917936197, 0.5161290323381783], 'HUMERUS': [0.47091194968553457, 0.4861111111111111]}\n",
            "\n",
            "reading studies of HAND\n",
            "\n",
            "MURA-v1.1/train_labeled_studies.csv\n"
          ],
          "name": "stdout"
        },
        {
          "output_type": "stream",
          "text": [
            "100%|██████████| 2018/2018 [00:01<00:00, 1671.99it/s]\n",
            "100%|██████████| 167/167 [00:00<00:00, 1453.19it/s]\n",
            "  0%|          | 14/5543 [00:00<00:43, 127.61it/s]"
          ],
          "name": "stderr"
        },
        {
          "output_type": "stream",
          "text": [
            "(5543,)\n",
            "(460,)\n",
            "reading HAND training images\n"
          ],
          "name": "stdout"
        },
        {
          "output_type": "stream",
          "text": [
            "100%|██████████| 5543/5543 [01:55<00:00, 48.11it/s]\n",
            "  4%|▎         | 17/460 [00:00<00:02, 161.87it/s]"
          ],
          "name": "stderr"
        },
        {
          "output_type": "stream",
          "text": [
            "(5543, 224, 224, 3)\n",
            "reading HAND validation images\n"
          ],
          "name": "stdout"
        },
        {
          "output_type": "stream",
          "text": [
            "100%|██████████| 460/460 [00:03<00:00, 141.93it/s]\n"
          ],
          "name": "stderr"
        },
        {
          "output_type": "stream",
          "text": [
            "(460, 224, 224, 3)\n",
            "making model\n",
            "compiling\n",
            "fitting\n",
            "Train on 5543 samples, validate on 460 samples\n",
            "Epoch 1/5\n",
            "5543/5543 [==============================] - 87s 16ms/step - loss: 0.6192 - acc: 0.7231 - val_loss: 2.6317 - val_acc: 0.5891\n",
            "Epoch 2/5\n",
            "5543/5543 [==============================] - 71s 13ms/step - loss: 0.5893 - acc: 0.7319 - val_loss: 1.7831 - val_acc: 0.5891\n",
            "Epoch 3/5\n",
            "5543/5543 [==============================] - 71s 13ms/step - loss: 0.5876 - acc: 0.7323 - val_loss: 0.9949 - val_acc: 0.5891\n",
            "Epoch 4/5\n",
            "5543/5543 [==============================] - 71s 13ms/step - loss: 0.5852 - acc: 0.7323 - val_loss: 1.1577 - val_acc: 0.5891\n",
            "Epoch 5/5\n",
            "5543/5543 [==============================] - 71s 13ms/step - loss: 0.5765 - acc: 0.7323 - val_loss: 2.7965 - val_acc: 0.5891\n",
            "training loss calculations for HAND\n",
            "5543/5543 [==============================] - 17s 3ms/step\n",
            "calculating validation loss for HAND\n",
            "460/460 [==============================] - 2s 4ms/step\n"
          ],
          "name": "stdout"
        },
        {
          "output_type": "stream",
          "text": [
            "  6%|▋         | 56/877 [00:00<00:01, 551.86it/s]"
          ],
          "name": "stderr"
        },
        {
          "output_type": "stream",
          "text": [
            "\n",
            " \n",
            " HAND\n",
            "{'FINGER': [0.6549157851404458, 0.6811279839393632], 'ELBOW': [0.41188399917936197, 0.5161290323381783], 'HUMERUS': [0.47091194968553457, 0.4861111111111111], 'HAND': [0.7322749413674905, 0.5891304347826087]}\n",
            "\n",
            "reading studies of FOREARM\n",
            "\n",
            "MURA-v1.1/train_labeled_studies.csv\n"
          ],
          "name": "stdout"
        },
        {
          "output_type": "stream",
          "text": [
            "100%|██████████| 877/877 [00:00<00:00, 1627.97it/s]\n",
            "100%|██████████| 133/133 [00:00<00:00, 1524.46it/s]\n",
            "  1%|          | 11/1825 [00:00<00:17, 101.99it/s]"
          ],
          "name": "stderr"
        },
        {
          "output_type": "stream",
          "text": [
            "(1825,)\n",
            "(301,)\n",
            "reading FOREARM training images\n"
          ],
          "name": "stdout"
        },
        {
          "output_type": "stream",
          "text": [
            "100%|██████████| 1825/1825 [00:13<00:00, 131.52it/s]\n",
            "  4%|▍         | 12/301 [00:00<00:02, 113.97it/s]"
          ],
          "name": "stderr"
        },
        {
          "output_type": "stream",
          "text": [
            "(1825, 224, 224, 3)\n",
            "reading FOREARM validation images\n"
          ],
          "name": "stdout"
        },
        {
          "output_type": "stream",
          "text": [
            "100%|██████████| 301/301 [00:02<00:00, 135.50it/s]\n"
          ],
          "name": "stderr"
        },
        {
          "output_type": "stream",
          "text": [
            "(301, 224, 224, 3)\n",
            "making model\n",
            "compiling\n",
            "fitting\n",
            "Train on 1825 samples, validate on 301 samples\n",
            "Epoch 1/5\n",
            "1825/1825 [==============================] - 41s 22ms/step - loss: 0.7219 - acc: 0.6060 - val_loss: 2.1713 - val_acc: 0.5017\n",
            "Epoch 2/5\n",
            "1825/1825 [==============================] - 24s 13ms/step - loss: 0.6662 - acc: 0.6258 - val_loss: 2.0464 - val_acc: 0.5017\n",
            "Epoch 3/5\n",
            "1825/1825 [==============================] - 24s 13ms/step - loss: 0.6508 - acc: 0.6285 - val_loss: 2.2909 - val_acc: 0.4983\n",
            "Epoch 4/5\n",
            "1825/1825 [==============================] - 24s 13ms/step - loss: 0.6429 - acc: 0.6455 - val_loss: 1.7644 - val_acc: 0.4983\n",
            "Epoch 5/5\n",
            "1825/1825 [==============================] - 24s 13ms/step - loss: 0.6461 - acc: 0.6460 - val_loss: 3.7867 - val_acc: 0.5017\n",
            "training loss calculations for FOREARM\n",
            "1825/1825 [==============================] - 6s 3ms/step\n",
            "calculating validation loss for FOREARM\n",
            "301/301 [==============================] - 1s 4ms/step\n"
          ],
          "name": "stdout"
        },
        {
          "output_type": "stream",
          "text": [
            "  1%|          | 21/2821 [00:00<00:13, 206.94it/s]"
          ],
          "name": "stderr"
        },
        {
          "output_type": "stream",
          "text": [
            "\n",
            " \n",
            " FOREARM\n",
            "{'FINGER': [0.6549157851404458, 0.6811279839393632], 'ELBOW': [0.41188399917936197, 0.5161290323381783], 'HUMERUS': [0.47091194968553457, 0.4861111111111111], 'HAND': [0.7322749413674905, 0.5891304347826087], 'FOREARM': [0.36219178082191783, 0.5016611295681063]}\n",
            "\n",
            "reading studies of SHOULDER\n",
            "\n",
            "MURA-v1.1/train_labeled_studies.csv\n"
          ],
          "name": "stdout"
        },
        {
          "output_type": "stream",
          "text": [
            "100%|██████████| 2821/2821 [00:01<00:00, 1470.82it/s]\n",
            "100%|██████████| 194/194 [00:00<00:00, 1524.95it/s]\n",
            "  0%|          | 16/8379 [00:00<00:53, 156.75it/s]"
          ],
          "name": "stderr"
        },
        {
          "output_type": "stream",
          "text": [
            "(8379,)\n",
            "(563,)\n",
            "reading SHOULDER training images\n"
          ],
          "name": "stdout"
        },
        {
          "output_type": "stream",
          "text": [
            "100%|██████████| 8379/8379 [02:24<00:00, 57.94it/s]\n"
          ],
          "name": "stderr"
        }
      ]
    },
    {
      "metadata": {
        "id": "MMcyBZz_yDvT",
        "colab_type": "code",
        "colab": {}
      },
      "cell_type": "code",
      "source": [
        "pd.DataFrame(R).head(2)"
      ],
      "execution_count": 0,
      "outputs": []
    },
    {
      "metadata": {
        "id": "I7i_zlgSuKyU",
        "colab_type": "code",
        "colab": {}
      },
      "cell_type": "code",
      "source": [
        "#may need to make a function to evaluate all limps over one model together as one dataset"
      ],
      "execution_count": 0,
      "outputs": []
    },
    {
      "metadata": {
        "id": "0_9VVa8XVLMw",
        "colab_type": "text"
      },
      "cell_type": "markdown",
      "source": [
        "** Current point: generalizing functions and code cleaning+ seeing early stopping callback**"
      ]
    },
    {
      "metadata": {
        "id": "vt5njgtKmMOc",
        "colab_type": "text"
      },
      "cell_type": "markdown",
      "source": [
        "All unsolved problems:\n",
        "\n",
        "* which layers to freeze and which to train + should I train TL before freezing it ?\n",
        "* data augmentation to generate more data (solved by khaled,still needs little verification)\n",
        "* recording variation in accuracy after every change to get intuition\n",
        "* what does outputted loss represent ? how to read the number ?\n",
        "* normalization step and its effect on accuracy\n",
        "* should I use 1 or two neurons at output layer ?\n",
        "* binary crossentropy weights\n",
        "* justifying parameter use and discovering useful params\n",
        "* try training with model unfrozen with imagenet and without it\n",
        "* make a function to record and tabulate outputs\n",
        "* could we add precision or recall metric ? change accuracy?\n",
        "* why doesn't it work if removed GlobalAveragePooling line?\n",
        "* see if want to freeze less layers\n",
        "* generalize file reading functions\n",
        "* use better batch size ? increase epochs ?\n",
        "* training function with preprocessing flag and multiple model comparisons\n",
        "* grid search like function to tune models and hyperparameters\n",
        "* early stopping callback and save model to drive for continuing training\n",
        "* feature concatenation\n",
        "* ensemble model\n",
        "*maybe we are reading images all wrong and we should read them to grayscale then on preprocessing return them to 3 channels"
      ]
    },
    {
      "metadata": {
        "id": "IVMVHTzRF7f4",
        "colab_type": "text"
      },
      "cell_type": "markdown",
      "source": [
        "**results on wrist data: no preprocessing but resize**\n",
        "\n",
        "\n",
        "1- Densenet, with imagenet and froze all at rms prop\n",
        "\n",
        "59% train 55% val\n",
        "\n",
        "2- Densenet with imagenet and didnt freeze (trained over them)\n",
        "\n",
        "65% train and 65% validation\n",
        "\n",
        "3-InceptionV3, with imagenet and froze all at rms prop\n",
        "\n",
        "59% train 55% val\n",
        "\n",
        "4-InceptionV3 with imagenet and didnt freeze (trained over them)\n",
        "\n",
        "82% train and 78% validation\n",
        "\n",
        "\n",
        "\n",
        "**results on wrist data: with keras preprocessing **\n",
        "\n",
        "1- Densenet with imagenet and didnt freeze (trained over them)\n",
        "71% train and 68% validation\n",
        "\n",
        "epoch=6 mins\n",
        "\n",
        "2- Densenet WITHOUT imagenet and didnt freeze \n",
        "\n",
        "62% train and 59% validation\n",
        "\n",
        "epoch=5.5 mins\n",
        "\n",
        "3-InceptionV3 with imagenet and didnt freeze (trained over them)\n",
        "79% train and 74% validation\n",
        "\n",
        "epoch=5 mins\n",
        "\n",
        "4-InceptionV3 WITHOUT imagenet and didnt freeze \n",
        "59% train and 57% validation\n",
        "\n",
        "epoch=5 mins\n",
        "\n",
        "**Shoulder data: with keras preprocessing **\n",
        "\n",
        "1-Densenet with imagenet and no freeze\n",
        "51% train and 51% Validation\n",
        "\n",
        "2-Mobilenet with imagenet and no freeze\n",
        "51% train and 52% Validation\n",
        "\n",
        "3-Mobilenet with imagenet and no freeze 2 DENSES INSTEAD OF 4\n",
        "\n",
        "50% train and 50% Validation\n",
        " also 51% train and 50 Validation\n",
        " \n",
        "**Finger data: with keras preprocessing **\n",
        "\n",
        "1-Densenet with imagenet and no freeze\n",
        "63% train and 69% Validation\n",
        "\n",
        "**Elbow data: with keras preprocessing **\n",
        "\n",
        "1-Densenet with imagenet and no freeze\n",
        "59% train and 50% Validation\n",
        "\n",
        "**Humerus data: with keras preprocessing **\n",
        "\n",
        "\n",
        "1-Densenet with imagenet and no freeze\n",
        "47% train and 49% Validation\n",
        "\n",
        "**Hand data: with keras preprocessing **\n",
        "\n",
        "1-Densenet with imagenet and no freeze\n",
        "73% train and 59% Validation\n",
        "\n",
        "**Forearm data: with keras preprocessing **\n",
        "\n",
        "1-Densenet with imagenet and no freeze\n",
        "64% train and 50% Validation\n",
        "\n",
        "\n",
        "** Conclusions till now **\n",
        "\n",
        "1- keras preprocessing (nomalization and subtracting mean maybe ) with inception reduces  accuracy both training and validation , but with DenseNet it improved accuracy \n",
        "\n",
        "2- Training over imagenet weights without freezing the TL model gives significantly higher accuracy than freezing whole TL and just training denses\n",
        "\n",
        "3-Training TL without imagenet and no freeze till now (2 Trials) seems to get worse results than with imagenet and training over it"
      ]
    },
    {
      "metadata": {
        "id": "2v-AiB5xDDKJ",
        "colab_type": "text"
      },
      "cell_type": "markdown",
      "source": [
        "Mobilenet Preprocess\n",
        "\n",
        "{'FINGER': [0.6145710928319624, 0.4642082429501085], \n",
        "\n",
        "'ELBOW': [0.4877306834585501, 0.48817204329916225], \n",
        "\n",
        "'HUMERUS': [0.4716981132075472, 0.4826388888888889], \n",
        "\n",
        "'HAND': [0.7322749413674905, 0.5891304347826087], '\n",
        "\n",
        "FOREARM': [0.36219178082191783, 0.5016611295681063]}\n",
        "\n",
        "\n",
        "Mobilenet no preprocess\n",
        "\n",
        "{'FINGER': [0.5084214651299793, 0.5422993490791631],\n",
        "\n",
        "'ELBOW': [0.4068140336645711, 0.4946236559139785], '\n",
        "\n",
        "HUMERUS': [0.47091194968553457, 0.4861111111111111]\n",
        "\n",
        "'HAND': [0.7322749413674905, 0.5891304347826087]\n",
        "\n",
        "'FOREARM': [0.41315068509480724, 0.4983388704318937]\n",
        "\n",
        "'SHOULDER': [0.4970760233544666, 0.5062166962699822]}\n",
        "\n",
        "**Takeaway : preprocessing USUALLY doesnt matter in accuracy**\n",
        "\n",
        "Mobilenet no preprocess no imagenet no freeze\n",
        "\n",
        "{'FINGER': [0.428515472011243, 0.46637744034707157],\n",
        "\n",
        "'ELBOW': [0.4068140336645711, 0.4946236559139785],\n",
        "\n",
        "'HUMERUS': [0.47091194968553457, 0.4861111111111111],\n",
        "\n",
        "'HAND': [0.7322749413674905, 0.5891304347826087],\n",
        "\n",
        "'FOREARM': [0.6284931512074928, 0.5016611295681063],\n",
        "\n",
        "'SHOULDER': [0.5177228787674057, 0.5062166962699822],\n",
        "\n",
        "'WRIST': [0.5384615386454278, 0.5523520485584219]}\n",
        "\n",
        "Mobilenet preprocess, imagenet, froze all\n",
        "\n",
        "(highest finger,same humerus, same hand, worse same forearm)\n",
        "\n",
        "\n",
        "{'FINGER': [0.6549157851404458, 0.6811279839393632], \n",
        "\n",
        "'ELBOW': [0.41188399917936197, 0.5161290323381783],\n",
        "\n",
        "'HUMERUS': [0.47091194968553457, 0.4861111111111111], \n",
        "\n",
        "'HAND': [0.7322749413674905, 0.5891304347826087],\n",
        "\n",
        "'FOREARM': [0.36219178082191783, 0.5016611295681063]}"
      ]
    },
    {
      "metadata": {
        "id": "16_OAF1jOsRm",
        "colab_type": "code",
        "colab": {}
      },
      "cell_type": "code",
      "source": [
        ""
      ],
      "execution_count": 0,
      "outputs": []
    }
  ]
}